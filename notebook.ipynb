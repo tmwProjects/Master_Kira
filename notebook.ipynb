{
 "cells": [
  {
   "cell_type": "markdown",
   "id": "e70a9ae4-af6e-4f3d-8a2e-86de9ebe25bc",
   "metadata": {},
   "source": [
    "# Jupyter-Notebook Test"
   ]
  },
  {
   "cell_type": "markdown",
   "id": "792bb95c-9dee-42f9-85d8-7a7c8967985c",
   "metadata": {},
   "source": [
    "Hier könnte dein Text stehen mit Informationen"
   ]
  },
  {
   "cell_type": "code",
   "execution_count": null,
   "id": "f50899c8-2207-45ed-9a85-8c6cf442d43b",
   "metadata": {},
   "outputs": [],
   "source": [
    "# Hier könnten deine Import-Anweisungen stehen\n",
    "\n",
    "import blablabla\n",
    "import pandas\n",
    "import matplotlib\n",
    "\n",
    "# etc..."
   ]
  },
  {
   "cell_type": "code",
   "execution_count": 5,
   "id": "a121b4dd-5d06-4751-ae0f-549b87f7b5ed",
   "metadata": {
    "tags": []
   },
   "outputs": [
    {
     "name": "stdout",
     "output_type": "stream",
     "text": [
      "Hello World\n",
      "Hello World\n",
      "Hello World\n",
      "Hello World\n",
      "Hello World\n"
     ]
    }
   ],
   "source": [
    "# Hier ist eine Codezelle um interaktiv Code auszuführen\n",
    "\n",
    "for i in range(5,10):\n",
    "    print(\"Hello World\")"
   ]
  },
  {
   "cell_type": "markdown",
   "id": "185bb87c-6d64-4d4e-8f6a-38ea473a10cf",
   "metadata": {},
   "source": [
    "### Hier könnte weiterer Text stehen zu einem möglichen Plot"
   ]
  },
  {
   "cell_type": "markdown",
   "id": "5cfb105d-daf7-4387-90fd-656c002f9b36",
   "metadata": {},
   "source": []
  },
  {
   "cell_type": "code",
   "execution_count": null,
   "id": "1d5ffb28-34e3-4023-a4e8-5fa81bbcbffb",
   "metadata": {},
   "outputs": [],
   "source": []
  },
  {
   "cell_type": "code",
   "execution_count": null,
   "id": "7e5eb207-8b58-47e9-9a88-a48880c0df11",
   "metadata": {},
   "outputs": [],
   "source": []
  },
  {
   "cell_type": "code",
   "execution_count": null,
   "id": "5374c190-b846-403f-b9c9-3d836f121d8a",
   "metadata": {},
   "outputs": [],
   "source": []
  }
 ],
 "metadata": {
  "kernelspec": {
   "display_name": "Python 3 (ipykernel)",
   "language": "python",
   "name": "python3"
  },
  "language_info": {
   "codemirror_mode": {
    "name": "ipython",
    "version": 3
   },
   "file_extension": ".py",
   "mimetype": "text/x-python",
   "name": "python",
   "nbconvert_exporter": "python",
   "pygments_lexer": "ipython3",
   "version": "3.11.6"
  }
 },
 "nbformat": 4,
 "nbformat_minor": 5
}
